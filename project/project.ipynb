{
 "cells": [
  {
   "cell_type": "markdown",
   "metadata": {},
   "source": [
    "## FALL2023 AIN212 Course Project: Free Palestine\n",
    "#### Talha Kaba - 2210765037\n",
    "#### Abdulkadir Parlak - 2210765025\n",
    "### Dataset: Fatalities in the Israeli-Palestinian Conflict\n",
    "* source: https://www.kaggle.com/datasets/willianoliveiragibin/fatalities-in-the-israeli-palestinian"
   ]
  },
  {
   "cell_type": "code",
   "execution_count": 1,
   "metadata": {},
   "outputs": [],
   "source": [
    "import pandas as pd\n",
    "import numpy as np\n",
    "import matplotlib.pyplot as plt\n",
    "import seaborn as sns\n"
   ]
  },
  {
   "cell_type": "code",
   "execution_count": 9,
   "metadata": {},
   "outputs": [
    {
     "data": {
      "text/plain": [
       "\"\\nfiltered_df = df[df['age'] <= 18]\\npd.set_option('display.max_rows', None)\\npd.set_option('display.max_columns', None)\\nfiltered_df\\n\""
      ]
     },
     "execution_count": 9,
     "metadata": {},
     "output_type": "execute_result"
    }
   ],
   "source": [
    "df = pd.read_csv('fatalities_isr_pse_conflict_2000_to_2023.csv')\n",
    "df.head()\n",
    "\"\"\"\n",
    "filtered_df = df[df['age'] <= 18]\n",
    "pd.set_option('display.max_rows', None)\n",
    "pd.set_option('display.max_columns', None)\n",
    "filtered_df\n",
    "\"\"\"\n"
   ]
  }
 ],
 "metadata": {
  "kernelspec": {
   "display_name": "Python 3",
   "language": "python",
   "name": "python3"
  },
  "language_info": {
   "codemirror_mode": {
    "name": "ipython",
    "version": 3
   },
   "file_extension": ".py",
   "mimetype": "text/x-python",
   "name": "python",
   "nbconvert_exporter": "python",
   "pygments_lexer": "ipython3",
   "version": "3.10.11"
  }
 },
 "nbformat": 4,
 "nbformat_minor": 2
}
