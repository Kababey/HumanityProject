{
 "cells": [
  {
   "cell_type": "markdown",
   "metadata": {},
   "source": [
    "## FALL2023 AIN212 Course Project: Free Palestine\n",
    "#### Talha Kaba - 2210765037\n",
    "#### Abdulkadir Parlak - 2210765025\n",
    "### Dataset: Fatalities in the Israeli-Palestinian Conflict\n",
    "* source: https://www.kaggle.com/datasets/willianoliveiragibin/fatalities-in-the-israeli-palestinian"
   ]
  },
  {
   "cell_type": "code",
   "execution_count": 470,
   "metadata": {
    "ExecuteTime": {
     "end_time": "2024-01-19T14:27:41.512409Z",
     "start_time": "2024-01-19T14:27:41.499508Z"
    }
   },
   "outputs": [],
   "source": [
    "import pandas as pd\n",
    "import numpy as np\n",
    "import matplotlib.pyplot as plt\n",
    "import seaborn as sns\n"
   ]
  },
  {
   "cell_type": "markdown",
   "source": [
    "# Step 1: Data Collection"
   ],
   "metadata": {
    "collapsed": false
   }
  },
  {
   "cell_type": "code",
   "execution_count": 471,
   "metadata": {
    "ExecuteTime": {
     "end_time": "2024-01-19T14:27:41.553969Z",
     "start_time": "2024-01-19T14:27:41.514431Z"
    }
   },
   "outputs": [
    {
     "name": "stdout",
     "output_type": "stream",
     "text": [
      "Number of rows: 11124\n",
      "Number of columns: 16\n"
     ]
    },
    {
     "data": {
      "text/plain": "                                          name date_of_event   age  \\\n0  'Abd a-Rahman Suleiman Muhammad Abu Daghash    2023-09-24  32.0   \n1         Usayed Farhan Muhammad 'Ali Abu 'Ali    2023-09-24  21.0   \n2             'Abdallah 'Imad Sa'ed Abu Hassan    2023-09-22  16.0   \n3             Durgham Muhammad Yihya al-Akhras    2023-09-20  19.0   \n4                 Raafat 'Omar Ahmad Khamaisah    2023-09-19  15.0   \n5                        'Ata Yasser 'Ata Musa    2023-09-19  29.0   \n6                     Yusef Salem Yusef Radwan    2023-09-19  24.0   \n7                Mahmoud Khaled S'ud 'Ar'arawi    2023-09-19  25.0   \n8                  Mahmoud 'Ali Nafe'a a-S'adi    2023-09-19  23.0   \n9                    Milad Munzer Wajih a-Ra'i    2023-09-09  15.0   \n\n   citizenship     event_location event_location_district  \\\n0  Palestinian     Nur Shams R.C.                 Tulkarm   \n1  Palestinian     Nur Shams R.C.                 Tulkarm   \n2  Palestinian           Kfar Dan                   Jenin   \n3  Palestinian  'Aqbat Jaber R.C.                 Jericho   \n4  Palestinian         Jenin R.C.                   Jenin   \n5  Palestinian         Jenin R.C.                   Jenin   \n6  Palestinian          Gaza City                    Gaza   \n7  Palestinian         Jenin R.C.                   Jenin   \n8  Palestinian         Jenin R.C.                   Jenin   \n9  Palestinian     al-'Arrub R.C.                  Hebron   \n\n  event_location_region date_of_death gender took_part_in_the_hostilities  \\\n0             West Bank    2023-09-24      M                          NaN   \n1             West Bank    2023-09-24      M                          NaN   \n2             West Bank    2023-09-22      M                          NaN   \n3             West Bank    2023-09-20      M                          NaN   \n4             West Bank    2023-09-19      M                          NaN   \n5             West Bank    2023-09-20      M                          NaN   \n6            Gaza Strip    2023-09-19      M                           No   \n7             West Bank    2023-09-19      M                          NaN   \n8             West Bank    2023-09-19      M                          NaN   \n9             West Bank    2023-09-09      M                          NaN   \n\n  place_of_residence place_of_residence_district type_of_injury  \\\n0     Nur Shams R.C.                     Tulkarm        gunfire   \n1     Nur Shams R.C.                     Tulkarm        gunfire   \n2           al-Yamun                       Jenin        gunfire   \n3  'Aqbat Jaber R.C.                     Jericho        gunfire   \n4              Jenin                       Jenin        gunfire   \n5              Jenin                       Jenin        gunfire   \n6         Khan Yunis                  Khan Yunis        gunfire   \n7         Jenin R.C.                       Jenin        gunfire   \n8         Jenin R.C.                       Jenin        gunfire   \n9     al-'Arrub Camp                      Hebron        gunfire   \n\n        ammunition                killed_by  \\\n0  live ammunition  Israeli security forces   \n1  live ammunition  Israeli security forces   \n2  live ammunition  Israeli security forces   \n3  live ammunition  Israeli security forces   \n4  live ammunition  Israeli security forces   \n5          missile  Israeli security forces   \n6  live ammunition  Israeli security forces   \n7          missile  Israeli security forces   \n8          missile  Israeli security forces   \n9  live ammunition  Israeli security forces   \n\n                                               notes  \n0  Fatally shot by Israeli forces while standing ...  \n1  Fatally shot by Israeli forces while trying to...  \n2  Fatally shot by soldiers while firing at them ...  \n3  Shot in the head by Israeli forces while throw...  \n4  Wounded by soldiers’ gunfire after running awa...  \n5  Wounded by shrapnel from a missile fired by Is...  \n6  Fatally shot by soldiers while participating i...  \n7  Wounded by shrapnel from a missile fired by Is...  \n8  Wounded by shrapnel from a missile fired by Is...  \n9  Fatally shot by a soldier after throwing two M...  ",
      "text/html": "<div>\n<style scoped>\n    .dataframe tbody tr th:only-of-type {\n        vertical-align: middle;\n    }\n\n    .dataframe tbody tr th {\n        vertical-align: top;\n    }\n\n    .dataframe thead th {\n        text-align: right;\n    }\n</style>\n<table border=\"1\" class=\"dataframe\">\n  <thead>\n    <tr style=\"text-align: right;\">\n      <th></th>\n      <th>name</th>\n      <th>date_of_event</th>\n      <th>age</th>\n      <th>citizenship</th>\n      <th>event_location</th>\n      <th>event_location_district</th>\n      <th>event_location_region</th>\n      <th>date_of_death</th>\n      <th>gender</th>\n      <th>took_part_in_the_hostilities</th>\n      <th>place_of_residence</th>\n      <th>place_of_residence_district</th>\n      <th>type_of_injury</th>\n      <th>ammunition</th>\n      <th>killed_by</th>\n      <th>notes</th>\n    </tr>\n  </thead>\n  <tbody>\n    <tr>\n      <th>0</th>\n      <td>'Abd a-Rahman Suleiman Muhammad Abu Daghash</td>\n      <td>2023-09-24</td>\n      <td>32.0</td>\n      <td>Palestinian</td>\n      <td>Nur Shams R.C.</td>\n      <td>Tulkarm</td>\n      <td>West Bank</td>\n      <td>2023-09-24</td>\n      <td>M</td>\n      <td>NaN</td>\n      <td>Nur Shams R.C.</td>\n      <td>Tulkarm</td>\n      <td>gunfire</td>\n      <td>live ammunition</td>\n      <td>Israeli security forces</td>\n      <td>Fatally shot by Israeli forces while standing ...</td>\n    </tr>\n    <tr>\n      <th>1</th>\n      <td>Usayed Farhan Muhammad 'Ali Abu 'Ali</td>\n      <td>2023-09-24</td>\n      <td>21.0</td>\n      <td>Palestinian</td>\n      <td>Nur Shams R.C.</td>\n      <td>Tulkarm</td>\n      <td>West Bank</td>\n      <td>2023-09-24</td>\n      <td>M</td>\n      <td>NaN</td>\n      <td>Nur Shams R.C.</td>\n      <td>Tulkarm</td>\n      <td>gunfire</td>\n      <td>live ammunition</td>\n      <td>Israeli security forces</td>\n      <td>Fatally shot by Israeli forces while trying to...</td>\n    </tr>\n    <tr>\n      <th>2</th>\n      <td>'Abdallah 'Imad Sa'ed Abu Hassan</td>\n      <td>2023-09-22</td>\n      <td>16.0</td>\n      <td>Palestinian</td>\n      <td>Kfar Dan</td>\n      <td>Jenin</td>\n      <td>West Bank</td>\n      <td>2023-09-22</td>\n      <td>M</td>\n      <td>NaN</td>\n      <td>al-Yamun</td>\n      <td>Jenin</td>\n      <td>gunfire</td>\n      <td>live ammunition</td>\n      <td>Israeli security forces</td>\n      <td>Fatally shot by soldiers while firing at them ...</td>\n    </tr>\n    <tr>\n      <th>3</th>\n      <td>Durgham Muhammad Yihya al-Akhras</td>\n      <td>2023-09-20</td>\n      <td>19.0</td>\n      <td>Palestinian</td>\n      <td>'Aqbat Jaber R.C.</td>\n      <td>Jericho</td>\n      <td>West Bank</td>\n      <td>2023-09-20</td>\n      <td>M</td>\n      <td>NaN</td>\n      <td>'Aqbat Jaber R.C.</td>\n      <td>Jericho</td>\n      <td>gunfire</td>\n      <td>live ammunition</td>\n      <td>Israeli security forces</td>\n      <td>Shot in the head by Israeli forces while throw...</td>\n    </tr>\n    <tr>\n      <th>4</th>\n      <td>Raafat 'Omar Ahmad Khamaisah</td>\n      <td>2023-09-19</td>\n      <td>15.0</td>\n      <td>Palestinian</td>\n      <td>Jenin R.C.</td>\n      <td>Jenin</td>\n      <td>West Bank</td>\n      <td>2023-09-19</td>\n      <td>M</td>\n      <td>NaN</td>\n      <td>Jenin</td>\n      <td>Jenin</td>\n      <td>gunfire</td>\n      <td>live ammunition</td>\n      <td>Israeli security forces</td>\n      <td>Wounded by soldiers’ gunfire after running awa...</td>\n    </tr>\n    <tr>\n      <th>5</th>\n      <td>'Ata Yasser 'Ata Musa</td>\n      <td>2023-09-19</td>\n      <td>29.0</td>\n      <td>Palestinian</td>\n      <td>Jenin R.C.</td>\n      <td>Jenin</td>\n      <td>West Bank</td>\n      <td>2023-09-20</td>\n      <td>M</td>\n      <td>NaN</td>\n      <td>Jenin</td>\n      <td>Jenin</td>\n      <td>gunfire</td>\n      <td>missile</td>\n      <td>Israeli security forces</td>\n      <td>Wounded by shrapnel from a missile fired by Is...</td>\n    </tr>\n    <tr>\n      <th>6</th>\n      <td>Yusef Salem Yusef Radwan</td>\n      <td>2023-09-19</td>\n      <td>24.0</td>\n      <td>Palestinian</td>\n      <td>Gaza City</td>\n      <td>Gaza</td>\n      <td>Gaza Strip</td>\n      <td>2023-09-19</td>\n      <td>M</td>\n      <td>No</td>\n      <td>Khan Yunis</td>\n      <td>Khan Yunis</td>\n      <td>gunfire</td>\n      <td>live ammunition</td>\n      <td>Israeli security forces</td>\n      <td>Fatally shot by soldiers while participating i...</td>\n    </tr>\n    <tr>\n      <th>7</th>\n      <td>Mahmoud Khaled S'ud 'Ar'arawi</td>\n      <td>2023-09-19</td>\n      <td>25.0</td>\n      <td>Palestinian</td>\n      <td>Jenin R.C.</td>\n      <td>Jenin</td>\n      <td>West Bank</td>\n      <td>2023-09-19</td>\n      <td>M</td>\n      <td>NaN</td>\n      <td>Jenin R.C.</td>\n      <td>Jenin</td>\n      <td>gunfire</td>\n      <td>missile</td>\n      <td>Israeli security forces</td>\n      <td>Wounded by shrapnel from a missile fired by Is...</td>\n    </tr>\n    <tr>\n      <th>8</th>\n      <td>Mahmoud 'Ali Nafe'a a-S'adi</td>\n      <td>2023-09-19</td>\n      <td>23.0</td>\n      <td>Palestinian</td>\n      <td>Jenin R.C.</td>\n      <td>Jenin</td>\n      <td>West Bank</td>\n      <td>2023-09-19</td>\n      <td>M</td>\n      <td>NaN</td>\n      <td>Jenin R.C.</td>\n      <td>Jenin</td>\n      <td>gunfire</td>\n      <td>missile</td>\n      <td>Israeli security forces</td>\n      <td>Wounded by shrapnel from a missile fired by Is...</td>\n    </tr>\n    <tr>\n      <th>9</th>\n      <td>Milad Munzer Wajih a-Ra'i</td>\n      <td>2023-09-09</td>\n      <td>15.0</td>\n      <td>Palestinian</td>\n      <td>al-'Arrub R.C.</td>\n      <td>Hebron</td>\n      <td>West Bank</td>\n      <td>2023-09-09</td>\n      <td>M</td>\n      <td>NaN</td>\n      <td>al-'Arrub Camp</td>\n      <td>Hebron</td>\n      <td>gunfire</td>\n      <td>live ammunition</td>\n      <td>Israeli security forces</td>\n      <td>Fatally shot by a soldier after throwing two M...</td>\n    </tr>\n  </tbody>\n</table>\n</div>"
     },
     "execution_count": 471,
     "metadata": {},
     "output_type": "execute_result"
    }
   ],
   "source": [
    "df = pd.read_csv('fatalities_isr_pse_conflict_2000_to_2023.csv')\n",
    "\n",
    "print(\"Number of rows:\", len(df))\n",
    "print(\"Number of columns:\", len(df.columns))\n",
    "df.head(10)"
   ]
  },
  {
   "cell_type": "markdown",
   "source": [
    "# Overview of the Attributes of the Dataset:\n",
    "**Here are the descriptions of the attributes from the dataset:**<br>\n",
    "***name :*** the name of the people killed<br>\n",
    "***date_of_event :*** the date of the fatality<br>\n",
    "***age :*** the age of the person killed<br>\n",
    "***citizenship :*** the nationality of the person killed<br>\n",
    "***event_location :*** the location of the fatality<br>\n",
    "***event_location_district :*** the district location of the fatality<br>\n",
    "***event_location_region :*** the region of the fatality<br>\n",
    "***date_of_death :*** the date of the death of the victim<br>\n",
    "***gender :*** the gender of the person killed<br>\n",
    "***took_part_in_the_hostilities :*** a boolean value that indicates whether the person took part in the hostilities<br>\n",
    "***place_of_residence :*** the place of residence of the person killed<br>\n",
    "***place_of_residence_district :*** the place of the residence district of the person killed<br>\n",
    "***type_of_injury :*** the type of injury<br>\n",
    "***ammunition :*** the type of ammunition that is used in fatality<br>\n",
    "***killed_by :*** the law enforcement/group/individual that is responsible for fatality<br>\n",
    "***notes :*** additional notes about the fatality<br>"
   ],
   "metadata": {
    "collapsed": false
   }
  },
  {
   "cell_type": "markdown",
   "source": [
    "# Step 2: Data Preprocessing and Cleaning"
   ],
   "metadata": {
    "collapsed": false
   }
  },
  {
   "cell_type": "code",
   "execution_count": 472,
   "outputs": [
    {
     "data": {
      "text/plain": "name                               0\ndate_of_event                      0\nage                              129\ncitizenship                        0\nevent_location                     0\nevent_location_district            0\nevent_location_region              0\ndate_of_death                      0\ngender                            20\ntook_part_in_the_hostilities    1430\nplace_of_residence                68\nplace_of_residence_district       68\ntype_of_injury                   291\nammunition                      5253\nkilled_by                          0\nnotes                            280\ndtype: int64"
     },
     "execution_count": 472,
     "metadata": {},
     "output_type": "execute_result"
    }
   ],
   "source": [
    "df.isnull().sum()"
   ],
   "metadata": {
    "collapsed": false,
    "ExecuteTime": {
     "end_time": "2024-01-19T14:27:41.558841Z",
     "start_time": "2024-01-19T14:27:41.556445Z"
    }
   }
  },
  {
   "cell_type": "markdown",
   "source": [
    "There are ...\n",
    "* 1430 missing values in the **took_part_in_the_hostilities** attribute.\n",
    "* 129 missing values in the **age** attribute.\n",
    "* 20 missing values in the **gender** attribute.\n",
    "* 68 missing values in the **place_of_residence** attribute.\n",
    "* 68 missing values in the **place_of_residence_district** attribute.\n",
    "* 291 missing values in the **type_of_injury** attribute.\n",
    "* 5253 missing values in the **ammunition** attribute.\n",
    "* 280 missing values int he **notes** attribute."
   ],
   "metadata": {
    "collapsed": false
   }
  },
  {
   "cell_type": "code",
   "execution_count": 473,
   "outputs": [],
   "source": [
    "# convert categorical columns to numeric values(onehot encoding? ordinal encoding?)\n",
    "# normalization of data\n",
    "# preprocessing of the textual data (creating extra columns aka predictors)"
   ],
   "metadata": {
    "collapsed": false,
    "ExecuteTime": {
     "end_time": "2024-01-19T14:27:41.561245Z",
     "start_time": "2024-01-19T14:27:41.558808Z"
    }
   }
  },
  {
   "cell_type": "markdown",
   "source": [
    "# Missing Value Handling"
   ],
   "metadata": {
    "collapsed": false
   }
  },
  {
   "cell_type": "code",
   "execution_count": 474,
   "outputs": [
    {
     "data": {
      "text/plain": "0        32\n1        21\n2        16\n3        19\n4        15\n         ..\n11119    64\n11120    28\n11121    36\n11122    21\n11123    24\nName: age, Length: 11124, dtype: int64"
     },
     "execution_count": 474,
     "metadata": {},
     "output_type": "execute_result"
    }
   ],
   "source": [
    "# Impute the missing values by the median of the column\n",
    "median_value = int(df['age'].median())\n",
    "df['age'] = df['age'].fillna(median_value)\n",
    "\n",
    "# Type casting (from float to int)\n",
    "df['age'] = df['age'].astype(int)\n",
    "df['age']"
   ],
   "metadata": {
    "collapsed": false,
    "ExecuteTime": {
     "end_time": "2024-01-19T14:27:41.565261Z",
     "start_time": "2024-01-19T14:27:41.562009Z"
    }
   }
  },
  {
   "cell_type": "markdown",
   "source": [
    "# Outlier Handling\n",
    "Detection method: IQR Method\n",
    "**Note:** Outliers will not be handled since each of them corresponds to an individual, they are not erroneous."
   ],
   "metadata": {
    "collapsed": false
   }
  },
  {
   "cell_type": "code",
   "execution_count": 475,
   "outputs": [
    {
     "name": "stdout",
     "output_type": "stream",
     "text": [
      "200\n"
     ]
    }
   ],
   "source": [
    "# 'age' is the only numerical column in this dataset\n",
    "\n",
    "Q1 = df['age'].quantile(0.25)\n",
    "Q3 = df['age'].quantile(0.75)\n",
    "IQR = Q3 - Q1\n",
    "outliers = (df['age'] < (Q1 - 3 * IQR)) | (df['age'] > (Q3 + 3 * IQR))\n",
    "\n",
    "print(df['age'][outliers].count())"
   ],
   "metadata": {
    "collapsed": false,
    "ExecuteTime": {
     "end_time": "2024-01-19T14:27:41.569376Z",
     "start_time": "2024-01-19T14:27:41.566189Z"
    }
   }
  },
  {
   "cell_type": "code",
   "execution_count": 476,
   "outputs": [
    {
     "data": {
      "text/plain": "                                          name date_of_event  age  \\\n0  'Abd a-Rahman Suleiman Muhammad Abu Daghash    2023-09-24   32   \n1         Usayed Farhan Muhammad 'Ali Abu 'Ali    2023-09-24   21   \n2             'Abdallah 'Imad Sa'ed Abu Hassan    2023-09-22   16   \n3             Durgham Muhammad Yihya al-Akhras    2023-09-20   19   \n4                 Raafat 'Omar Ahmad Khamaisah    2023-09-19   15   \n\n   citizenship     event_location event_location_district  \\\n0  Palestinian     Nur Shams R.C.                 Tulkarm   \n1  Palestinian     Nur Shams R.C.                 Tulkarm   \n2  Palestinian           Kfar Dan                   Jenin   \n3  Palestinian  'Aqbat Jaber R.C.                 Jericho   \n4  Palestinian         Jenin R.C.                   Jenin   \n\n  event_location_region gender took_part_in_the_hostilities  \\\n0             West Bank      M                          NaN   \n1             West Bank      M                          NaN   \n2             West Bank      M                          NaN   \n3             West Bank      M                          NaN   \n4             West Bank      M                          NaN   \n\n  place_of_residence place_of_residence_district type_of_injury  \\\n0     Nur Shams R.C.                     Tulkarm        gunfire   \n1     Nur Shams R.C.                     Tulkarm        gunfire   \n2           al-Yamun                       Jenin        gunfire   \n3  'Aqbat Jaber R.C.                     Jericho        gunfire   \n4              Jenin                       Jenin        gunfire   \n\n        ammunition                killed_by  \\\n0  live ammunition  Israeli security forces   \n1  live ammunition  Israeli security forces   \n2  live ammunition  Israeli security forces   \n3  live ammunition  Israeli security forces   \n4  live ammunition  Israeli security forces   \n\n                                               notes  \n0  Fatally shot by Israeli forces while standing ...  \n1  Fatally shot by Israeli forces while trying to...  \n2  Fatally shot by soldiers while firing at them ...  \n3  Shot in the head by Israeli forces while throw...  \n4  Wounded by soldiers’ gunfire after running awa...  ",
      "text/html": "<div>\n<style scoped>\n    .dataframe tbody tr th:only-of-type {\n        vertical-align: middle;\n    }\n\n    .dataframe tbody tr th {\n        vertical-align: top;\n    }\n\n    .dataframe thead th {\n        text-align: right;\n    }\n</style>\n<table border=\"1\" class=\"dataframe\">\n  <thead>\n    <tr style=\"text-align: right;\">\n      <th></th>\n      <th>name</th>\n      <th>date_of_event</th>\n      <th>age</th>\n      <th>citizenship</th>\n      <th>event_location</th>\n      <th>event_location_district</th>\n      <th>event_location_region</th>\n      <th>gender</th>\n      <th>took_part_in_the_hostilities</th>\n      <th>place_of_residence</th>\n      <th>place_of_residence_district</th>\n      <th>type_of_injury</th>\n      <th>ammunition</th>\n      <th>killed_by</th>\n      <th>notes</th>\n    </tr>\n  </thead>\n  <tbody>\n    <tr>\n      <th>0</th>\n      <td>'Abd a-Rahman Suleiman Muhammad Abu Daghash</td>\n      <td>2023-09-24</td>\n      <td>32</td>\n      <td>Palestinian</td>\n      <td>Nur Shams R.C.</td>\n      <td>Tulkarm</td>\n      <td>West Bank</td>\n      <td>M</td>\n      <td>NaN</td>\n      <td>Nur Shams R.C.</td>\n      <td>Tulkarm</td>\n      <td>gunfire</td>\n      <td>live ammunition</td>\n      <td>Israeli security forces</td>\n      <td>Fatally shot by Israeli forces while standing ...</td>\n    </tr>\n    <tr>\n      <th>1</th>\n      <td>Usayed Farhan Muhammad 'Ali Abu 'Ali</td>\n      <td>2023-09-24</td>\n      <td>21</td>\n      <td>Palestinian</td>\n      <td>Nur Shams R.C.</td>\n      <td>Tulkarm</td>\n      <td>West Bank</td>\n      <td>M</td>\n      <td>NaN</td>\n      <td>Nur Shams R.C.</td>\n      <td>Tulkarm</td>\n      <td>gunfire</td>\n      <td>live ammunition</td>\n      <td>Israeli security forces</td>\n      <td>Fatally shot by Israeli forces while trying to...</td>\n    </tr>\n    <tr>\n      <th>2</th>\n      <td>'Abdallah 'Imad Sa'ed Abu Hassan</td>\n      <td>2023-09-22</td>\n      <td>16</td>\n      <td>Palestinian</td>\n      <td>Kfar Dan</td>\n      <td>Jenin</td>\n      <td>West Bank</td>\n      <td>M</td>\n      <td>NaN</td>\n      <td>al-Yamun</td>\n      <td>Jenin</td>\n      <td>gunfire</td>\n      <td>live ammunition</td>\n      <td>Israeli security forces</td>\n      <td>Fatally shot by soldiers while firing at them ...</td>\n    </tr>\n    <tr>\n      <th>3</th>\n      <td>Durgham Muhammad Yihya al-Akhras</td>\n      <td>2023-09-20</td>\n      <td>19</td>\n      <td>Palestinian</td>\n      <td>'Aqbat Jaber R.C.</td>\n      <td>Jericho</td>\n      <td>West Bank</td>\n      <td>M</td>\n      <td>NaN</td>\n      <td>'Aqbat Jaber R.C.</td>\n      <td>Jericho</td>\n      <td>gunfire</td>\n      <td>live ammunition</td>\n      <td>Israeli security forces</td>\n      <td>Shot in the head by Israeli forces while throw...</td>\n    </tr>\n    <tr>\n      <th>4</th>\n      <td>Raafat 'Omar Ahmad Khamaisah</td>\n      <td>2023-09-19</td>\n      <td>15</td>\n      <td>Palestinian</td>\n      <td>Jenin R.C.</td>\n      <td>Jenin</td>\n      <td>West Bank</td>\n      <td>M</td>\n      <td>NaN</td>\n      <td>Jenin</td>\n      <td>Jenin</td>\n      <td>gunfire</td>\n      <td>live ammunition</td>\n      <td>Israeli security forces</td>\n      <td>Wounded by soldiers’ gunfire after running awa...</td>\n    </tr>\n  </tbody>\n</table>\n</div>"
     },
     "execution_count": 476,
     "metadata": {},
     "output_type": "execute_result"
    }
   ],
   "source": [
    "# date_of_event and date_of_death have the same information with different names, so one of them is unnecessary\n",
    "df.drop('date_of_death', axis=1, inplace=True)\n",
    "df.head()"
   ],
   "metadata": {
    "collapsed": false,
    "ExecuteTime": {
     "end_time": "2024-01-19T14:27:41.585431Z",
     "start_time": "2024-01-19T14:27:41.569516Z"
    }
   }
  },
  {
   "cell_type": "markdown",
   "source": [
    "# Step 3: Exploratory Data Analysis (EDA) "
   ],
   "metadata": {
    "collapsed": false
   }
  },
  {
   "cell_type": "markdown",
   "source": [
    "# Distribution of Attributes"
   ],
   "metadata": {
    "collapsed": false
   }
  },
  {
   "cell_type": "code",
   "execution_count": 479,
   "outputs": [
    {
     "data": {
      "text/plain": "<Figure size 640x480 with 1 Axes>",
      "image/png": "[encoded data removed]"
     },
     "metadata": {},
     "output_type": "display_data"
    }
   ],
   "source": [
    "# Distribution of the 'age' variable\n",
    "plt.hist(df['age'], bins=20, color='skyblue', edgecolor='black')\n",
    "plt.title('Age Distribution')\n",
    "plt.xlabel('Age')\n",
    "plt.ylabel('Frequency')\n",
    "plt.show()"
   ],
   "metadata": {
    "collapsed": false,
    "ExecuteTime": {
     "end_time": "2024-01-19T14:33:24.754936Z",
     "start_time": "2024-01-19T14:33:24.677775Z"
    }
   }
  },
  {
   "cell_type": "code",
   "execution_count": 482,
   "outputs": [
    {
     "data": {
      "text/plain": "<Figure size 640x480 with 1 Axes>",
      "image/png": "[encoded data removed]"
     },
     "metadata": {},
     "output_type": "display_data"
    }
   ],
   "source": [
    "# Distribution of 'date_of_event' variable\n",
    "# This distribution analysis gives information about any important event that happened in those dates\n",
    "top_categories = df['date_of_event'].value_counts().nlargest(30)  # Adjust 10 based on your preference\n",
    "top_categories.plot(kind='bar')\n",
    "plt.title('Top Dates')\n",
    "plt.xlabel('Date')\n",
    "plt.ylabel('Count')\n",
    "plt.show()"
   ],
   "metadata": {
    "collapsed": false,
    "ExecuteTime": {
     "end_time": "2024-01-19T14:37:42.856932Z",
     "start_time": "2024-01-19T14:37:42.725035Z"
    }
   }
  },
  {
   "cell_type": "code",
   "execution_count": null,
   "outputs": [],
   "source": [],
   "metadata": {
    "collapsed": false
   }
  }
 ],
 "metadata": {
  "kernelspec": {
   "display_name": "Python 3",
   "language": "python",
   "name": "python3"
  },
  "language_info": {
   "codemirror_mode": {
    "name": "ipython",
    "version": 3
   },
   "file_extension": ".py",
   "mimetype": "text/x-python",
   "name": "python",
   "nbconvert_exporter": "python",
   "pygments_lexer": "ipython3",
   "version": "3.10.11"
  }
 },
 "nbformat": 4,
 "nbformat_minor": 2
}
