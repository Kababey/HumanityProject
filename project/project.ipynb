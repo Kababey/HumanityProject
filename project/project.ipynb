{
 "cells": [
  {
   "cell_type": "markdown",
   "metadata": {},
   "source": [
    "## FALL2023 AIN212 Course Project: Free Palestine\n",
    "#### Talha Kaba - 2210765037\n",
    "#### Abdulkadir Parlak - 2210765025\n",
    "### Dataset: Fatalities in the Israeli-Palestinian Conflict\n",
    "* source: https://www.kaggle.com/datasets/willianoliveiragibin/fatalities-in-the-israeli-palestinian"
   ]
  },
  {
   "cell_type": "code",
   "execution_count": 21,
   "metadata": {
    "ExecuteTime": {
     "end_time": "2024-01-18T15:25:20.321325Z",
     "start_time": "2024-01-18T15:25:20.312981Z"
    }
   },
   "outputs": [],
   "source": [
    "import pandas as pd\n",
    "import numpy as np\n",
    "import matplotlib.pyplot as plt\n",
    "import seaborn as sns\n"
   ]
  },
  {
   "cell_type": "markdown",
   "source": [
    "# Step 1: Data Collection"
   ],
   "metadata": {
    "collapsed": false
   }
  },
  {
   "cell_type": "code",
   "execution_count": 22,
   "metadata": {
    "ExecuteTime": {
     "end_time": "2024-01-18T15:25:20.366461Z",
     "start_time": "2024-01-18T15:25:20.323395Z"
    }
   },
   "outputs": [
    {
     "name": "stdout",
     "output_type": "stream",
     "text": [
      "Number of rows: 11124\n",
      "Number of columns: 16\n"
     ]
    },
    {
     "data": {
      "text/plain": "                                          name date_of_event   age  \\\n0  'Abd a-Rahman Suleiman Muhammad Abu Daghash    2023-09-24  32.0   \n1         Usayed Farhan Muhammad 'Ali Abu 'Ali    2023-09-24  21.0   \n2             'Abdallah 'Imad Sa'ed Abu Hassan    2023-09-22  16.0   \n3             Durgham Muhammad Yihya al-Akhras    2023-09-20  19.0   \n4                 Raafat 'Omar Ahmad Khamaisah    2023-09-19  15.0   \n5                        'Ata Yasser 'Ata Musa    2023-09-19  29.0   \n6                     Yusef Salem Yusef Radwan    2023-09-19  24.0   \n7                Mahmoud Khaled S'ud 'Ar'arawi    2023-09-19  25.0   \n8                  Mahmoud 'Ali Nafe'a a-S'adi    2023-09-19  23.0   \n9                    Milad Munzer Wajih a-Ra'i    2023-09-09  15.0   \n\n   citizenship     event_location event_location_district  \\\n0  Palestinian     Nur Shams R.C.                 Tulkarm   \n1  Palestinian     Nur Shams R.C.                 Tulkarm   \n2  Palestinian           Kfar Dan                   Jenin   \n3  Palestinian  'Aqbat Jaber R.C.                 Jericho   \n4  Palestinian         Jenin R.C.                   Jenin   \n5  Palestinian         Jenin R.C.                   Jenin   \n6  Palestinian          Gaza City                    Gaza   \n7  Palestinian         Jenin R.C.                   Jenin   \n8  Palestinian         Jenin R.C.                   Jenin   \n9  Palestinian     al-'Arrub R.C.                  Hebron   \n\n  event_location_region date_of_death gender took_part_in_the_hostilities  \\\n0             West Bank    2023-09-24      M                          NaN   \n1             West Bank    2023-09-24      M                          NaN   \n2             West Bank    2023-09-22      M                          NaN   \n3             West Bank    2023-09-20      M                          NaN   \n4             West Bank    2023-09-19      M                          NaN   \n5             West Bank    2023-09-20      M                          NaN   \n6            Gaza Strip    2023-09-19      M                           No   \n7             West Bank    2023-09-19      M                          NaN   \n8             West Bank    2023-09-19      M                          NaN   \n9             West Bank    2023-09-09      M                          NaN   \n\n  place_of_residence place_of_residence_district type_of_injury  \\\n0     Nur Shams R.C.                     Tulkarm        gunfire   \n1     Nur Shams R.C.                     Tulkarm        gunfire   \n2           al-Yamun                       Jenin        gunfire   \n3  'Aqbat Jaber R.C.                     Jericho        gunfire   \n4              Jenin                       Jenin        gunfire   \n5              Jenin                       Jenin        gunfire   \n6         Khan Yunis                  Khan Yunis        gunfire   \n7         Jenin R.C.                       Jenin        gunfire   \n8         Jenin R.C.                       Jenin        gunfire   \n9     al-'Arrub Camp                      Hebron        gunfire   \n\n        ammunition                killed_by  \\\n0  live ammunition  Israeli security forces   \n1  live ammunition  Israeli security forces   \n2  live ammunition  Israeli security forces   \n3  live ammunition  Israeli security forces   \n4  live ammunition  Israeli security forces   \n5          missile  Israeli security forces   \n6  live ammunition  Israeli security forces   \n7          missile  Israeli security forces   \n8          missile  Israeli security forces   \n9  live ammunition  Israeli security forces   \n\n                                               notes  \n0  Fatally shot by Israeli forces while standing ...  \n1  Fatally shot by Israeli forces while trying to...  \n2  Fatally shot by soldiers while firing at them ...  \n3  Shot in the head by Israeli forces while throw...  \n4  Wounded by soldiers’ gunfire after running awa...  \n5  Wounded by shrapnel from a missile fired by Is...  \n6  Fatally shot by soldiers while participating i...  \n7  Wounded by shrapnel from a missile fired by Is...  \n8  Wounded by shrapnel from a missile fired by Is...  \n9  Fatally shot by a soldier after throwing two M...  ",
      "text/html": "<div>\n<style scoped>\n    .dataframe tbody tr th:only-of-type {\n        vertical-align: middle;\n    }\n\n    .dataframe tbody tr th {\n        vertical-align: top;\n    }\n\n    .dataframe thead th {\n        text-align: right;\n    }\n</style>\n<table border=\"1\" class=\"dataframe\">\n  <thead>\n    <tr style=\"text-align: right;\">\n      <th></th>\n      <th>name</th>\n      <th>date_of_event</th>\n      <th>age</th>\n      <th>citizenship</th>\n      <th>event_location</th>\n      <th>event_location_district</th>\n      <th>event_location_region</th>\n      <th>date_of_death</th>\n      <th>gender</th>\n      <th>took_part_in_the_hostilities</th>\n      <th>place_of_residence</th>\n      <th>place_of_residence_district</th>\n      <th>type_of_injury</th>\n      <th>ammunition</th>\n      <th>killed_by</th>\n      <th>notes</th>\n    </tr>\n  </thead>\n  <tbody>\n    <tr>\n      <th>0</th>\n      <td>'Abd a-Rahman Suleiman Muhammad Abu Daghash</td>\n      <td>2023-09-24</td>\n      <td>32.0</td>\n      <td>Palestinian</td>\n      <td>Nur Shams R.C.</td>\n      <td>Tulkarm</td>\n      <td>West Bank</td>\n      <td>2023-09-24</td>\n      <td>M</td>\n      <td>NaN</td>\n      <td>Nur Shams R.C.</td>\n      <td>Tulkarm</td>\n      <td>gunfire</td>\n      <td>live ammunition</td>\n      <td>Israeli security forces</td>\n      <td>Fatally shot by Israeli forces while standing ...</td>\n    </tr>\n    <tr>\n      <th>1</th>\n      <td>Usayed Farhan Muhammad 'Ali Abu 'Ali</td>\n      <td>2023-09-24</td>\n      <td>21.0</td>\n      <td>Palestinian</td>\n      <td>Nur Shams R.C.</td>\n      <td>Tulkarm</td>\n      <td>West Bank</td>\n      <td>2023-09-24</td>\n      <td>M</td>\n      <td>NaN</td>\n      <td>Nur Shams R.C.</td>\n      <td>Tulkarm</td>\n      <td>gunfire</td>\n      <td>live ammunition</td>\n      <td>Israeli security forces</td>\n      <td>Fatally shot by Israeli forces while trying to...</td>\n    </tr>\n    <tr>\n      <th>2</th>\n      <td>'Abdallah 'Imad Sa'ed Abu Hassan</td>\n      <td>2023-09-22</td>\n      <td>16.0</td>\n      <td>Palestinian</td>\n      <td>Kfar Dan</td>\n      <td>Jenin</td>\n      <td>West Bank</td>\n      <td>2023-09-22</td>\n      <td>M</td>\n      <td>NaN</td>\n      <td>al-Yamun</td>\n      <td>Jenin</td>\n      <td>gunfire</td>\n      <td>live ammunition</td>\n      <td>Israeli security forces</td>\n      <td>Fatally shot by soldiers while firing at them ...</td>\n    </tr>\n    <tr>\n      <th>3</th>\n      <td>Durgham Muhammad Yihya al-Akhras</td>\n      <td>2023-09-20</td>\n      <td>19.0</td>\n      <td>Palestinian</td>\n      <td>'Aqbat Jaber R.C.</td>\n      <td>Jericho</td>\n      <td>West Bank</td>\n      <td>2023-09-20</td>\n      <td>M</td>\n      <td>NaN</td>\n      <td>'Aqbat Jaber R.C.</td>\n      <td>Jericho</td>\n      <td>gunfire</td>\n      <td>live ammunition</td>\n      <td>Israeli security forces</td>\n      <td>Shot in the head by Israeli forces while throw...</td>\n    </tr>\n    <tr>\n      <th>4</th>\n      <td>Raafat 'Omar Ahmad Khamaisah</td>\n      <td>2023-09-19</td>\n      <td>15.0</td>\n      <td>Palestinian</td>\n      <td>Jenin R.C.</td>\n      <td>Jenin</td>\n      <td>West Bank</td>\n      <td>2023-09-19</td>\n      <td>M</td>\n      <td>NaN</td>\n      <td>Jenin</td>\n      <td>Jenin</td>\n      <td>gunfire</td>\n      <td>live ammunition</td>\n      <td>Israeli security forces</td>\n      <td>Wounded by soldiers’ gunfire after running awa...</td>\n    </tr>\n    <tr>\n      <th>5</th>\n      <td>'Ata Yasser 'Ata Musa</td>\n      <td>2023-09-19</td>\n      <td>29.0</td>\n      <td>Palestinian</td>\n      <td>Jenin R.C.</td>\n      <td>Jenin</td>\n      <td>West Bank</td>\n      <td>2023-09-20</td>\n      <td>M</td>\n      <td>NaN</td>\n      <td>Jenin</td>\n      <td>Jenin</td>\n      <td>gunfire</td>\n      <td>missile</td>\n      <td>Israeli security forces</td>\n      <td>Wounded by shrapnel from a missile fired by Is...</td>\n    </tr>\n    <tr>\n      <th>6</th>\n      <td>Yusef Salem Yusef Radwan</td>\n      <td>2023-09-19</td>\n      <td>24.0</td>\n      <td>Palestinian</td>\n      <td>Gaza City</td>\n      <td>Gaza</td>\n      <td>Gaza Strip</td>\n      <td>2023-09-19</td>\n      <td>M</td>\n      <td>No</td>\n      <td>Khan Yunis</td>\n      <td>Khan Yunis</td>\n      <td>gunfire</td>\n      <td>live ammunition</td>\n      <td>Israeli security forces</td>\n      <td>Fatally shot by soldiers while participating i...</td>\n    </tr>\n    <tr>\n      <th>7</th>\n      <td>Mahmoud Khaled S'ud 'Ar'arawi</td>\n      <td>2023-09-19</td>\n      <td>25.0</td>\n      <td>Palestinian</td>\n      <td>Jenin R.C.</td>\n      <td>Jenin</td>\n      <td>West Bank</td>\n      <td>2023-09-19</td>\n      <td>M</td>\n      <td>NaN</td>\n      <td>Jenin R.C.</td>\n      <td>Jenin</td>\n      <td>gunfire</td>\n      <td>missile</td>\n      <td>Israeli security forces</td>\n      <td>Wounded by shrapnel from a missile fired by Is...</td>\n    </tr>\n    <tr>\n      <th>8</th>\n      <td>Mahmoud 'Ali Nafe'a a-S'adi</td>\n      <td>2023-09-19</td>\n      <td>23.0</td>\n      <td>Palestinian</td>\n      <td>Jenin R.C.</td>\n      <td>Jenin</td>\n      <td>West Bank</td>\n      <td>2023-09-19</td>\n      <td>M</td>\n      <td>NaN</td>\n      <td>Jenin R.C.</td>\n      <td>Jenin</td>\n      <td>gunfire</td>\n      <td>missile</td>\n      <td>Israeli security forces</td>\n      <td>Wounded by shrapnel from a missile fired by Is...</td>\n    </tr>\n    <tr>\n      <th>9</th>\n      <td>Milad Munzer Wajih a-Ra'i</td>\n      <td>2023-09-09</td>\n      <td>15.0</td>\n      <td>Palestinian</td>\n      <td>al-'Arrub R.C.</td>\n      <td>Hebron</td>\n      <td>West Bank</td>\n      <td>2023-09-09</td>\n      <td>M</td>\n      <td>NaN</td>\n      <td>al-'Arrub Camp</td>\n      <td>Hebron</td>\n      <td>gunfire</td>\n      <td>live ammunition</td>\n      <td>Israeli security forces</td>\n      <td>Fatally shot by a soldier after throwing two M...</td>\n    </tr>\n  </tbody>\n</table>\n</div>"
     },
     "execution_count": 22,
     "metadata": {},
     "output_type": "execute_result"
    }
   ],
   "source": [
    "df = pd.read_csv('fatalities_isr_pse_conflict_2000_to_2023.csv')\n",
    "\n",
    "\"\"\"\n",
    "filtered_df = df[df['age'] <= 18]\n",
    "pd.set_option('display.max_rows', None)\n",
    "pd.set_option('display.max_columns', None)\n",
    "filtered_df\n",
    "\"\"\"\n",
    "\n",
    "print(\"Number of rows:\", len(df))\n",
    "print(\"Number of columns:\", len(df.columns))\n",
    "df.head(10)"
   ]
  },
  {
   "cell_type": "markdown",
   "source": [
    "# Attributes of the Dataset:\n",
    "**Here are the descriptions of the attributes from the dataset:**\n",
    "* **name:** name of the people died\n",
    "* **date_of_event:** ...\n",
    ".\n",
    ".\n",
    "."
   ],
   "metadata": {
    "collapsed": false
   }
  },
  {
   "cell_type": "markdown",
   "source": [
    "# Step 2: Data Preprocessing and Cleaning"
   ],
   "metadata": {
    "collapsed": false
   }
  },
  {
   "cell_type": "code",
   "execution_count": 23,
   "outputs": [
    {
     "data": {
      "text/plain": "name                               0\ndate_of_event                      0\nage                              129\ncitizenship                        0\nevent_location                     0\nevent_location_district            0\nevent_location_region              0\ndate_of_death                      0\ngender                            20\ntook_part_in_the_hostilities    1430\nplace_of_residence                68\nplace_of_residence_district       68\ntype_of_injury                   291\nammunition                      5253\nkilled_by                          0\nnotes                            280\ndtype: int64"
     },
     "execution_count": 23,
     "metadata": {},
     "output_type": "execute_result"
    }
   ],
   "source": [
    "df.isnull().sum()"
   ],
   "metadata": {
    "collapsed": false,
    "ExecuteTime": {
     "end_time": "2024-01-18T15:25:20.372502Z",
     "start_time": "2024-01-18T15:25:20.368965Z"
    }
   }
  },
  {
   "cell_type": "markdown",
   "source": [
    "There are ...\n",
    "* 1430 missing values in the **took_part_in_the_hostilities** attribute.\n",
    "* 129 missing values in the **age** attribute.\n",
    "* 20 missing values in the **gender** attribute.\n",
    "* 68 missing values in the **place_of_residence** attribute.\n",
    "* 68 missing values in the **place_of_residence_district** attribute.\n",
    "* 291 missing values in the **type_of_injury** attribute.\n",
    "* 5253 missing values in the **ammunition** attribute.\n",
    "* 280 missing values int he **notes** attribute."
   ],
   "metadata": {
    "collapsed": false
   }
  },
  {
   "cell_type": "code",
   "execution_count": 23,
   "outputs": [],
   "source": [
    "# how to handle outliers? drop or imputation?\n",
    "# are there any unnecessary attributes?\n",
    "# convert categorical columns to numeric values(onehot encoding? ordinal encoding?)\n",
    "# normalization of data"
   ],
   "metadata": {
    "collapsed": false,
    "ExecuteTime": {
     "end_time": "2024-01-18T15:25:20.375009Z",
     "start_time": "2024-01-18T15:25:20.371680Z"
    }
   }
  }
 ],
 "metadata": {
  "kernelspec": {
   "display_name": "Python 3",
   "language": "python",
   "name": "python3"
  },
  "language_info": {
   "codemirror_mode": {
    "name": "ipython",
    "version": 3
   },
   "file_extension": ".py",
   "mimetype": "text/x-python",
   "name": "python",
   "nbconvert_exporter": "python",
   "pygments_lexer": "ipython3",
   "version": "3.10.11"
  }
 },
 "nbformat": 4,
 "nbformat_minor": 2
}
